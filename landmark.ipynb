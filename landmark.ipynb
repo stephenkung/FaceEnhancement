{
 "cells": [
  {
   "cell_type": "code",
   "execution_count": 1,
   "metadata": {},
   "outputs": [
    {
     "name": "stderr",
     "output_type": "stream",
     "text": [
      "C:\\Users\\steph\\Anaconda3\\lib\\site-packages\\matplotlib\\pyplot.py:537: RuntimeWarning: More than 20 figures have been opened. Figures created through the pyplot interface (`matplotlib.pyplot.figure`) are retained until explicitly closed and may consume too much memory. (To control this warning, see the rcParam `figure.max_open_warning`).\n",
      "  max_open_warning, RuntimeWarning)\n"
     ]
    },
    {
     "name": "stdout",
     "output_type": "stream",
     "text": [
      "Warning: No faces were detected.\n",
      "Warning: No faces were detected.\n",
      "Warning: No faces were detected.\n",
      "Warning: No faces were detected.\n",
      "Warning: No faces were detected.\n",
      "Warning: No faces were detected.\n",
      "Warning: No faces were detected.\n",
      "Warning: No faces were detected.\n"
     ]
    }
   ],
   "source": [
    "import face_alignment\n",
    "from skimage import io\n",
    "import matplotlib.pyplot as plt\n",
    "from matplotlib.pyplot import savefig\n",
    "\n",
    "fa = face_alignment.FaceAlignment(face_alignment.LandmarksType._3D, flip_input=False)\n",
    "\n",
    "\n",
    "def draw_landmark(src_path, des_path):\n",
    "    input = io.imread(src_path)\n",
    "    preds = fa.get_landmarks(input)\n",
    "    if preds is not None:\n",
    "        preds = preds[-1]\n",
    "        #TODO: Make this nice\n",
    "        fig = plt.figure(figsize=plt.figaspect(.5))\n",
    "        ax = fig.add_subplot(1, 2, 1)\n",
    "        ax.imshow(input)\n",
    "        ax.plot(preds[0:17,0],preds[0:17,1],marker='o',markersize=3,linestyle='-',color='w',lw=2)\n",
    "        ax.plot(preds[17:22,0],preds[17:22,1],marker='o',markersize=3,linestyle='-',color='w',lw=2)\n",
    "        ax.plot(preds[22:27,0],preds[22:27,1],marker='o',markersize=3,linestyle='-',color='w',lw=2)\n",
    "        ax.plot(preds[27:31,0],preds[27:31,1],marker='o',markersize=3,linestyle='-',color='w',lw=2)\n",
    "        ax.plot(preds[31:36,0],preds[31:36,1],marker='o',markersize=3,linestyle='-',color='w',lw=2)\n",
    "        ax.plot(preds[36:42,0],preds[36:42,1],marker='o',markersize=3,linestyle='-',color='w',lw=2)\n",
    "        ax.plot(preds[42:48,0],preds[42:48,1],marker='o',markersize=3,linestyle='-',color='w',lw=2)\n",
    "        ax.plot(preds[48:60,0],preds[48:60,1],marker='o',markersize=3,linestyle='-',color='w',lw=2)\n",
    "        ax.plot(preds[60:68,0],preds[60:68,1],marker='o',markersize=3,linestyle='-',color='w',lw=2) \n",
    "        ax.axis('off')\n",
    "        savefig(des_path)    \n",
    "\n",
    "\n",
    "for index in range(124):\n",
    "    #ori_path = './RetinexNet-master/data/MyTestFace_small/'+str(index)+'.jpg'\n",
    "    #rel_path = './RetinexNet-master/data/MyTestFace_small_relight/'+str(index)+'img0.png'\n",
    "    rel_path = './RetinexNet-master/data/Gamma_small_relight/'+str(index)+'.jpg'\n",
    "    #ori_des = \"./landmark_detect/origin\"+str(index)+\".jpg\"\n",
    "    #rel_des = \"./landmark_detect/relight/\"+str(index)+\".jpg\"\n",
    "    rel_des = \"./landmark_detect/gamma_relight/\"+str(index)+\".jpg\"\n",
    "    #draw_landmark(ori_path, ori_des)\n",
    "    draw_landmark(rel_path, rel_des)"
   ]
  },
  {
   "cell_type": "code",
   "execution_count": null,
   "metadata": {},
   "outputs": [],
   "source": []
  }
 ],
 "metadata": {
  "kernelspec": {
   "display_name": "Python [default]",
   "language": "python",
   "name": "python3"
  },
  "language_info": {
   "codemirror_mode": {
    "name": "ipython",
    "version": 3
   },
   "file_extension": ".py",
   "mimetype": "text/x-python",
   "name": "python",
   "nbconvert_exporter": "python",
   "pygments_lexer": "ipython3",
   "version": "3.6.6"
  }
 },
 "nbformat": 4,
 "nbformat_minor": 2
}
