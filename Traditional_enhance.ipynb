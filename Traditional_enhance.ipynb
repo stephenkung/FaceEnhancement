{
 "cells": [
  {
   "cell_type": "code",
   "execution_count": 21,
   "metadata": {},
   "outputs": [
    {
     "name": "stdout",
     "output_type": "stream",
     "text": [
      "done\n"
     ]
    }
   ],
   "source": [
    "import os\n",
    "import numpy as np\n",
    "import cv2\n",
    "\n",
    "def image_enhance(src_path,des_path):\n",
    "    img = cv2.imread(src_path,1)\n",
    "    #image enhancement with gamma transform\n",
    "    cv2.normalize(img,img, 0, 255, cv2.NORM_MINMAX)\n",
    "    img_t= cv2.convertScaleAbs(img)\n",
    "    fgamma = 0.5\n",
    "    img_gamma = np.power((img_t/255.0),fgamma)*255.0\n",
    "    cv2.imwrite(des_path,img_gamma)\n",
    "    #cv2.imshow('pic0',img_gamma)\n",
    "    #cv2.waitKey() \n",
    "\n",
    "\n",
    "\n",
    "for index in range(124):\n",
    "    src_path = './RetinexNet-master/data/MyTestFace_small/'+str(index)+'.jpg'\n",
    "    des_path = './RetinexNet-master/data/Gamma_small_relight/'+str(index)+'.jpg'\n",
    "    image_enhance(src_path,des_path)\n",
    "    \n",
    "print(\"done\")"
   ]
  },
  {
   "cell_type": "code",
   "execution_count": null,
   "metadata": {},
   "outputs": [],
   "source": []
  }
 ],
 "metadata": {
  "kernelspec": {
   "display_name": "Python [default]",
   "language": "python",
   "name": "python3"
  },
  "language_info": {
   "codemirror_mode": {
    "name": "ipython",
    "version": 3
   },
   "file_extension": ".py",
   "mimetype": "text/x-python",
   "name": "python",
   "nbconvert_exporter": "python",
   "pygments_lexer": "ipython3",
   "version": "3.6.6"
  }
 },
 "nbformat": 4,
 "nbformat_minor": 2
}
